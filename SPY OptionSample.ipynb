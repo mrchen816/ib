{
 "cells": [
  {
   "cell_type": "code",
   "execution_count": 47,
   "id": "5613e48a",
   "metadata": {},
   "outputs": [
    {
     "data": {
      "text/plain": [
       "<IB connected to 127.0.0.1:7497 clientId=11>"
      ]
     },
     "execution_count": 47,
     "metadata": {},
     "output_type": "execute_result"
    }
   ],
   "source": [
    "import pandas as pd\n",
    "from ib_insync import *\n",
    "util.startLoop()\n",
    "\n",
    "ib = IB()\n",
    "ib.connect('127.0.0.1', 7497, clientId=11)"
   ]
  },
  {
   "cell_type": "code",
   "execution_count": 49,
   "id": "1cb5a574",
   "metadata": {},
   "outputs": [],
   "source": [
    "ib.reqMarketDataType(4)"
   ]
  },
  {
   "cell_type": "raw",
   "id": "e1d50eb3",
   "metadata": {},
   "source": [
    "contract = Contract()\n",
    "contract.symbol = \"SPY\"\n",
    "contract.secType = \"OPT\"\n",
    "contract.exchange = \"SMART\"\n",
    "contract.currency = \"USD\""
   ]
  },
  {
   "cell_type": "code",
   "execution_count": 29,
   "id": "1aa0876c",
   "metadata": {},
   "outputs": [
    {
     "data": {
      "text/plain": [
       "Stock(symbol='SPY', exchange='SMART', currency='USD')"
      ]
     },
     "execution_count": 29,
     "metadata": {},
     "output_type": "execute_result"
    }
   ],
   "source": [
    "spy = Stock('SPY', 'SMART', 'USD')\n",
    "\n",
    "spy"
   ]
  },
  {
   "cell_type": "code",
   "execution_count": 124,
   "id": "01c8f6d3",
   "metadata": {},
   "outputs": [
    {
     "data": {
      "text/plain": [
       "Ticker(contract=Stock(symbol='SPY', exchange='SMART', currency='USD'), time=datetime.datetime(2021, 10, 5, 19, 32, 5, 631539, tzinfo=datetime.timezone.utc), bid=434.43, bidSize=15, ask=434.45, askSize=11, last=434.44, lastSize=1, prevBid=435.18, prevBidSize=109, prevAsk=435.2, prevAskSize=21, prevLast=435.19, volume=660074, open=428.62, high=435.49, low=428.62, close=428.64, halted=0.0, ticks=[TickData(time=datetime.datetime(2021, 10, 5, 19, 32, 5, 631539, tzinfo=datetime.timezone.utc), tickType=1, price=434.43, size=15), TickData(time=datetime.datetime(2021, 10, 5, 19, 32, 5, 631539, tzinfo=datetime.timezone.utc), tickType=2, price=434.45, size=11), TickData(time=datetime.datetime(2021, 10, 5, 19, 32, 5, 631539, tzinfo=datetime.timezone.utc), tickType=4, price=434.44, size=1), TickData(time=datetime.datetime(2021, 10, 5, 19, 32, 5, 631539, tzinfo=datetime.timezone.utc), tickType=8, price=-1.0, size=660074), TickData(time=datetime.datetime(2021, 10, 5, 19, 32, 5, 631539, tzinfo=datetime.timezone.utc), tickType=6, price=435.49, size=0), TickData(time=datetime.datetime(2021, 10, 5, 19, 32, 5, 631539, tzinfo=datetime.timezone.utc), tickType=7, price=428.62, size=0), TickData(time=datetime.datetime(2021, 10, 5, 19, 32, 5, 631539, tzinfo=datetime.timezone.utc), tickType=9, price=428.64, size=0), TickData(time=datetime.datetime(2021, 10, 5, 19, 32, 5, 631539, tzinfo=datetime.timezone.utc), tickType=14, price=428.62, size=0), TickData(time=datetime.datetime(2021, 10, 5, 19, 32, 5, 631539, tzinfo=datetime.timezone.utc), tickType=49, price=0.0, size=0)])"
      ]
     },
     "execution_count": 124,
     "metadata": {},
     "output_type": "execute_result"
    }
   ],
   "source": [
    "[ticker] = ib.reqTickers(spy)\n",
    "ticker"
   ]
  },
  {
   "cell_type": "code",
   "execution_count": 125,
   "id": "9b2040fd",
   "metadata": {},
   "outputs": [
    {
     "data": {
      "text/plain": [
       "434.44"
      ]
     },
     "execution_count": 125,
     "metadata": {},
     "output_type": "execute_result"
    }
   ],
   "source": [
    "spyValue = ticker.marketPrice()\n",
    "spyValue"
   ]
  },
  {
   "cell_type": "code",
   "execution_count": 74,
   "id": "925c8c4a",
   "metadata": {},
   "outputs": [
    {
     "data": {
      "text/html": [
       "<div>\n",
       "<style scoped>\n",
       "    .dataframe tbody tr th:only-of-type {\n",
       "        vertical-align: middle;\n",
       "    }\n",
       "\n",
       "    .dataframe tbody tr th {\n",
       "        vertical-align: top;\n",
       "    }\n",
       "\n",
       "    .dataframe thead th {\n",
       "        text-align: right;\n",
       "    }\n",
       "</style>\n",
       "<table border=\"1\" class=\"dataframe\">\n",
       "  <thead>\n",
       "    <tr style=\"text-align: right;\">\n",
       "      <th></th>\n",
       "      <th>exchange</th>\n",
       "      <th>underlyingConId</th>\n",
       "      <th>tradingClass</th>\n",
       "      <th>multiplier</th>\n",
       "      <th>expirations</th>\n",
       "      <th>strikes</th>\n",
       "    </tr>\n",
       "  </thead>\n",
       "  <tbody>\n",
       "    <tr>\n",
       "      <th>0</th>\n",
       "      <td>NASDAQOM</td>\n",
       "      <td>756733</td>\n",
       "      <td>SPY</td>\n",
       "      <td>100</td>\n",
       "      <td>[20211006, 20211008, 20211011, 20211013, 20211...</td>\n",
       "      <td>[25.0, 30.0, 35.0, 40.0, 45.0, 50.0, 55.0, 60....</td>\n",
       "    </tr>\n",
       "    <tr>\n",
       "      <th>1</th>\n",
       "      <td>PSE</td>\n",
       "      <td>756733</td>\n",
       "      <td>SPY</td>\n",
       "      <td>100</td>\n",
       "      <td>[20211006, 20211008, 20211011, 20211013, 20211...</td>\n",
       "      <td>[25.0, 30.0, 35.0, 40.0, 45.0, 50.0, 55.0, 60....</td>\n",
       "    </tr>\n",
       "    <tr>\n",
       "      <th>2</th>\n",
       "      <td>BATS</td>\n",
       "      <td>756733</td>\n",
       "      <td>SPY</td>\n",
       "      <td>100</td>\n",
       "      <td>[20211006, 20211008, 20211011, 20211013, 20211...</td>\n",
       "      <td>[25.0, 30.0, 35.0, 40.0, 45.0, 50.0, 55.0, 60....</td>\n",
       "    </tr>\n",
       "    <tr>\n",
       "      <th>3</th>\n",
       "      <td>AMEX</td>\n",
       "      <td>756733</td>\n",
       "      <td>SPY</td>\n",
       "      <td>100</td>\n",
       "      <td>[20211006, 20211008, 20211011, 20211013, 20211...</td>\n",
       "      <td>[25.0, 30.0, 35.0, 40.0, 45.0, 50.0, 55.0, 60....</td>\n",
       "    </tr>\n",
       "    <tr>\n",
       "      <th>4</th>\n",
       "      <td>PEARL</td>\n",
       "      <td>756733</td>\n",
       "      <td>SPY</td>\n",
       "      <td>100</td>\n",
       "      <td>[20211006, 20211008, 20211011, 20211013, 20211...</td>\n",
       "      <td>[25.0, 30.0, 35.0, 40.0, 45.0, 50.0, 55.0, 60....</td>\n",
       "    </tr>\n",
       "    <tr>\n",
       "      <th>5</th>\n",
       "      <td>NASDAQBX</td>\n",
       "      <td>756733</td>\n",
       "      <td>SPY</td>\n",
       "      <td>100</td>\n",
       "      <td>[20211006, 20211008, 20211011, 20211013, 20211...</td>\n",
       "      <td>[25.0, 30.0, 35.0, 40.0, 45.0, 50.0, 55.0, 60....</td>\n",
       "    </tr>\n",
       "    <tr>\n",
       "      <th>6</th>\n",
       "      <td>ISE</td>\n",
       "      <td>756733</td>\n",
       "      <td>SPY</td>\n",
       "      <td>100</td>\n",
       "      <td>[20211006, 20211008, 20211011, 20211013, 20211...</td>\n",
       "      <td>[25.0, 30.0, 35.0, 40.0, 45.0, 50.0, 55.0, 60....</td>\n",
       "    </tr>\n",
       "    <tr>\n",
       "      <th>7</th>\n",
       "      <td>MIAX</td>\n",
       "      <td>756733</td>\n",
       "      <td>SPY</td>\n",
       "      <td>100</td>\n",
       "      <td>[20211006, 20211008, 20211011, 20211013, 20211...</td>\n",
       "      <td>[25.0, 30.0, 35.0, 40.0, 45.0, 50.0, 55.0, 60....</td>\n",
       "    </tr>\n",
       "    <tr>\n",
       "      <th>8</th>\n",
       "      <td>SMART</td>\n",
       "      <td>756733</td>\n",
       "      <td>SPY</td>\n",
       "      <td>100</td>\n",
       "      <td>[20211006, 20211008, 20211011, 20211013, 20211...</td>\n",
       "      <td>[25.0, 30.0, 35.0, 40.0, 45.0, 50.0, 55.0, 60....</td>\n",
       "    </tr>\n",
       "    <tr>\n",
       "      <th>9</th>\n",
       "      <td>CBOE</td>\n",
       "      <td>756733</td>\n",
       "      <td>SPY</td>\n",
       "      <td>100</td>\n",
       "      <td>[20211006, 20211008, 20211011, 20211013, 20211...</td>\n",
       "      <td>[25.0, 30.0, 35.0, 40.0, 45.0, 50.0, 55.0, 60....</td>\n",
       "    </tr>\n",
       "    <tr>\n",
       "      <th>10</th>\n",
       "      <td>MERCURY</td>\n",
       "      <td>756733</td>\n",
       "      <td>SPY</td>\n",
       "      <td>100</td>\n",
       "      <td>[20211006, 20211008, 20211011, 20211013, 20211...</td>\n",
       "      <td>[25.0, 30.0, 35.0, 40.0, 45.0, 50.0, 55.0, 60....</td>\n",
       "    </tr>\n",
       "    <tr>\n",
       "      <th>11</th>\n",
       "      <td>EDGX</td>\n",
       "      <td>756733</td>\n",
       "      <td>SPY</td>\n",
       "      <td>100</td>\n",
       "      <td>[20211006, 20211008, 20211011, 20211013, 20211...</td>\n",
       "      <td>[25.0, 30.0, 35.0, 40.0, 45.0, 50.0, 55.0, 60....</td>\n",
       "    </tr>\n",
       "    <tr>\n",
       "      <th>12</th>\n",
       "      <td>GEMINI</td>\n",
       "      <td>756733</td>\n",
       "      <td>SPY</td>\n",
       "      <td>100</td>\n",
       "      <td>[20211006, 20211008, 20211011, 20211013, 20211...</td>\n",
       "      <td>[25.0, 30.0, 35.0, 40.0, 45.0, 50.0, 55.0, 60....</td>\n",
       "    </tr>\n",
       "    <tr>\n",
       "      <th>13</th>\n",
       "      <td>BOX</td>\n",
       "      <td>756733</td>\n",
       "      <td>SPY</td>\n",
       "      <td>100</td>\n",
       "      <td>[20211006, 20211008, 20211011, 20211013, 20211...</td>\n",
       "      <td>[25.0, 30.0, 35.0, 40.0, 45.0, 50.0, 55.0, 60....</td>\n",
       "    </tr>\n",
       "    <tr>\n",
       "      <th>14</th>\n",
       "      <td>CBOE2</td>\n",
       "      <td>756733</td>\n",
       "      <td>SPY</td>\n",
       "      <td>100</td>\n",
       "      <td>[20211006, 20211008, 20211011, 20211013, 20211...</td>\n",
       "      <td>[25.0, 30.0, 35.0, 40.0, 45.0, 50.0, 55.0, 60....</td>\n",
       "    </tr>\n",
       "    <tr>\n",
       "      <th>15</th>\n",
       "      <td>EMERALD</td>\n",
       "      <td>756733</td>\n",
       "      <td>SPY</td>\n",
       "      <td>100</td>\n",
       "      <td>[20211006, 20211008, 20211011, 20211013, 20211...</td>\n",
       "      <td>[25.0, 30.0, 35.0, 40.0, 45.0, 50.0, 55.0, 60....</td>\n",
       "    </tr>\n",
       "    <tr>\n",
       "      <th>16</th>\n",
       "      <td>PHLX</td>\n",
       "      <td>756733</td>\n",
       "      <td>SPY</td>\n",
       "      <td>100</td>\n",
       "      <td>[20211006, 20211008, 20211011, 20211013, 20211...</td>\n",
       "      <td>[25.0, 30.0, 35.0, 40.0, 45.0, 50.0, 55.0, 60....</td>\n",
       "    </tr>\n",
       "  </tbody>\n",
       "</table>\n",
       "</div>"
      ],
      "text/plain": [
       "    exchange underlyingConId tradingClass multiplier  \\\n",
       "0   NASDAQOM          756733          SPY        100   \n",
       "1        PSE          756733          SPY        100   \n",
       "2       BATS          756733          SPY        100   \n",
       "3       AMEX          756733          SPY        100   \n",
       "4      PEARL          756733          SPY        100   \n",
       "5   NASDAQBX          756733          SPY        100   \n",
       "6        ISE          756733          SPY        100   \n",
       "7       MIAX          756733          SPY        100   \n",
       "8      SMART          756733          SPY        100   \n",
       "9       CBOE          756733          SPY        100   \n",
       "10   MERCURY          756733          SPY        100   \n",
       "11      EDGX          756733          SPY        100   \n",
       "12    GEMINI          756733          SPY        100   \n",
       "13       BOX          756733          SPY        100   \n",
       "14     CBOE2          756733          SPY        100   \n",
       "15   EMERALD          756733          SPY        100   \n",
       "16      PHLX          756733          SPY        100   \n",
       "\n",
       "                                          expirations  \\\n",
       "0   [20211006, 20211008, 20211011, 20211013, 20211...   \n",
       "1   [20211006, 20211008, 20211011, 20211013, 20211...   \n",
       "2   [20211006, 20211008, 20211011, 20211013, 20211...   \n",
       "3   [20211006, 20211008, 20211011, 20211013, 20211...   \n",
       "4   [20211006, 20211008, 20211011, 20211013, 20211...   \n",
       "5   [20211006, 20211008, 20211011, 20211013, 20211...   \n",
       "6   [20211006, 20211008, 20211011, 20211013, 20211...   \n",
       "7   [20211006, 20211008, 20211011, 20211013, 20211...   \n",
       "8   [20211006, 20211008, 20211011, 20211013, 20211...   \n",
       "9   [20211006, 20211008, 20211011, 20211013, 20211...   \n",
       "10  [20211006, 20211008, 20211011, 20211013, 20211...   \n",
       "11  [20211006, 20211008, 20211011, 20211013, 20211...   \n",
       "12  [20211006, 20211008, 20211011, 20211013, 20211...   \n",
       "13  [20211006, 20211008, 20211011, 20211013, 20211...   \n",
       "14  [20211006, 20211008, 20211011, 20211013, 20211...   \n",
       "15  [20211006, 20211008, 20211011, 20211013, 20211...   \n",
       "16  [20211006, 20211008, 20211011, 20211013, 20211...   \n",
       "\n",
       "                                              strikes  \n",
       "0   [25.0, 30.0, 35.0, 40.0, 45.0, 50.0, 55.0, 60....  \n",
       "1   [25.0, 30.0, 35.0, 40.0, 45.0, 50.0, 55.0, 60....  \n",
       "2   [25.0, 30.0, 35.0, 40.0, 45.0, 50.0, 55.0, 60....  \n",
       "3   [25.0, 30.0, 35.0, 40.0, 45.0, 50.0, 55.0, 60....  \n",
       "4   [25.0, 30.0, 35.0, 40.0, 45.0, 50.0, 55.0, 60....  \n",
       "5   [25.0, 30.0, 35.0, 40.0, 45.0, 50.0, 55.0, 60....  \n",
       "6   [25.0, 30.0, 35.0, 40.0, 45.0, 50.0, 55.0, 60....  \n",
       "7   [25.0, 30.0, 35.0, 40.0, 45.0, 50.0, 55.0, 60....  \n",
       "8   [25.0, 30.0, 35.0, 40.0, 45.0, 50.0, 55.0, 60....  \n",
       "9   [25.0, 30.0, 35.0, 40.0, 45.0, 50.0, 55.0, 60....  \n",
       "10  [25.0, 30.0, 35.0, 40.0, 45.0, 50.0, 55.0, 60....  \n",
       "11  [25.0, 30.0, 35.0, 40.0, 45.0, 50.0, 55.0, 60....  \n",
       "12  [25.0, 30.0, 35.0, 40.0, 45.0, 50.0, 55.0, 60....  \n",
       "13  [25.0, 30.0, 35.0, 40.0, 45.0, 50.0, 55.0, 60....  \n",
       "14  [25.0, 30.0, 35.0, 40.0, 45.0, 50.0, 55.0, 60....  \n",
       "15  [25.0, 30.0, 35.0, 40.0, 45.0, 50.0, 55.0, 60....  \n",
       "16  [25.0, 30.0, 35.0, 40.0, 45.0, 50.0, 55.0, 60....  "
      ]
     },
     "execution_count": 74,
     "metadata": {},
     "output_type": "execute_result"
    }
   ],
   "source": [
    "chains = ib.reqSecDefOptParams('spy', '', 'STK', 756733)\n",
    "\n",
    "util.df(chains)"
   ]
  },
  {
   "cell_type": "code",
   "execution_count": 75,
   "id": "8fc276c6",
   "metadata": {},
   "outputs": [
    {
     "data": {
      "text/plain": [
       "OptionChain(exchange='SMART', underlyingConId='756733', tradingClass='SPY', multiplier='100', expirations=['20211006', '20211008', '20211011', '20211013', '20211015', '20211018', '20211020', '20211022', '20211025', '20211027', '20211029', '20211101', '20211103', '20211105', '20211108', '20211110', '20211112', '20211119', '20211217', '20211231', '20220121', '20220218', '20220318', '20220331', '20220617', '20220630', '20220916', '20220930', '20221216', '20230120', '20230317', '20230616', '20231215', '20240119'], strikes=[25.0, 30.0, 35.0, 40.0, 45.0, 50.0, 55.0, 60.0, 65.0, 70.0, 75.0, 80.0, 85.0, 90.0, 95.0, 100.0, 105.0, 110.0, 115.0, 120.0, 125.0, 130.0, 135.0, 140.0, 145.0, 150.0, 155.0, 160.0, 165.0, 170.0, 175.0, 180.0, 185.0, 190.0, 195.0, 200.0, 205.0, 210.0, 215.0, 220.0, 225.0, 230.0, 235.0, 240.0, 245.0, 250.0, 255.0, 260.0, 265.0, 270.0, 275.0, 276.0, 277.0, 278.0, 279.0, 280.0, 281.0, 282.0, 283.0, 284.0, 285.0, 286.0, 287.0, 288.0, 289.0, 290.0, 291.0, 292.0, 293.0, 294.0, 295.0, 296.0, 297.0, 298.0, 299.0, 300.0, 301.0, 302.0, 303.0, 304.0, 305.0, 306.0, 307.0, 308.0, 309.0, 310.0, 311.0, 312.0, 313.0, 314.0, 315.0, 316.0, 317.0, 318.0, 319.0, 320.0, 321.0, 322.0, 323.0, 324.0, 325.0, 326.0, 327.0, 328.0, 329.0, 330.0, 331.0, 332.0, 333.0, 334.0, 335.0, 336.0, 337.0, 338.0, 339.0, 340.0, 341.0, 342.0, 343.0, 344.0, 345.0, 346.0, 347.0, 348.0, 349.0, 350.0, 351.0, 352.0, 353.0, 354.0, 355.0, 356.0, 357.0, 358.0, 359.0, 360.0, 361.0, 362.0, 363.0, 364.0, 365.0, 366.0, 367.0, 368.0, 369.0, 370.0, 371.0, 372.0, 373.0, 374.0, 375.0, 376.0, 377.0, 378.0, 379.0, 380.0, 381.0, 382.0, 383.0, 384.0, 385.0, 386.0, 387.0, 388.0, 389.0, 390.0, 391.0, 392.0, 393.0, 394.0, 395.0, 396.0, 397.0, 398.0, 399.0, 400.0, 401.0, 402.0, 403.0, 404.0, 405.0, 406.0, 407.0, 408.0, 409.0, 410.0, 411.0, 412.0, 413.0, 414.0, 415.0, 416.0, 417.0, 417.5, 418.0, 419.0, 420.0, 421.0, 422.0, 422.5, 423.0, 424.0, 425.0, 426.0, 427.0, 427.5, 428.0, 429.0, 430.0, 431.0, 432.0, 432.5, 433.0, 434.0, 435.0, 436.0, 437.0, 437.5, 438.0, 439.0, 440.0, 441.0, 442.0, 442.5, 443.0, 444.0, 445.0, 446.0, 447.0, 447.5, 448.0, 449.0, 450.0, 451.0, 452.0, 452.5, 453.0, 454.0, 455.0, 456.0, 457.0, 457.5, 458.0, 459.0, 460.0, 461.0, 462.0, 462.5, 463.0, 464.0, 465.0, 466.0, 467.0, 467.5, 468.0, 469.0, 470.0, 471.0, 472.0, 472.5, 473.0, 474.0, 475.0, 476.0, 477.0, 477.5, 478.0, 479.0, 480.0, 481.0, 482.0, 482.5, 483.0, 484.0, 485.0, 486.0, 487.0, 488.0, 489.0, 490.0, 491.0, 492.0, 493.0, 494.0, 495.0, 496.0, 500.0, 505.0, 510.0, 515.0, 520.0, 525.0, 530.0, 535.0, 540.0, 545.0, 550.0, 555.0, 560.0, 565.0, 570.0, 575.0, 580.0, 585.0, 590.0, 595.0, 600.0, 605.0, 610.0, 615.0, 620.0, 625.0, 630.0, 635.0, 640.0, 645.0, 650.0, 655.0, 660.0, 665.0, 670.0, 675.0])"
      ]
     },
     "execution_count": 75,
     "metadata": {},
     "output_type": "execute_result"
    }
   ],
   "source": [
    "chain = next(c for c in chains if c.tradingClass == 'SPY' and c.exchange == 'SMART')\n",
    "chain"
   ]
  },
  {
   "cell_type": "code",
   "execution_count": 115,
   "id": "f16934b0",
   "metadata": {},
   "outputs": [
    {
     "data": {
      "text/plain": [
       "30"
      ]
     },
     "execution_count": 115,
     "metadata": {},
     "output_type": "execute_result"
    }
   ],
   "source": [
    "strikes = [strike for strike in chain.strikes\n",
    "        if strike % 5 == 0\n",
    "        and spyValue - 1 < strike < spyValue + 1]\n",
    "expirations = sorted(exp for exp in chain.expirations)[:15]\n",
    "rights = ['P', 'C']\n",
    "\n",
    "contracts = [Option('SPY', expiration, strike, right, 'SMART', tradingClass='SPY')\n",
    "        for right in rights\n",
    "        for expiration in expirations\n",
    "        for strike in strikes]\n",
    "\n",
    "contracts = ib.qualifyContracts(*contracts)\n",
    "len(contracts)"
   ]
  },
  {
   "cell_type": "code",
   "execution_count": 129,
   "id": "149f3833",
   "metadata": {},
   "outputs": [
    {
     "data": {
      "text/plain": [
       "Option(conId=511121444, symbol='SPY', lastTradeDateOrContractMonth='20211008', strike=435.0, right='P', multiplier='100', exchange='SMART', currency='USD', localSymbol='SPY   211008P00435000', tradingClass='SPY')"
      ]
     },
     "execution_count": 129,
     "metadata": {},
     "output_type": "execute_result"
    }
   ],
   "source": [
    "contracts[-29]"
   ]
  },
  {
   "cell_type": "code",
   "execution_count": 139,
   "id": "7a4c31ff",
   "metadata": {},
   "outputs": [
    {
     "data": {
      "text/plain": [
       "Ticker(contract=Option(conId=511848751, symbol='SPY', lastTradeDateOrContractMonth='20211006', strike=435.0, right='P', multiplier='100', exchange='SMART', currency='USD', localSymbol='SPY   211006P00435000', tradingClass='SPY'), time=datetime.datetime(2021, 10, 5, 19, 48, 2, 105325, tzinfo=datetime.timezone.utc), bid=2.08, bidSize=44, ask=2.09, askSize=144, last=2.07, lastSize=10, prevBid=2.01, prevBidSize=104, prevAsk=2.02, prevAskSize=67, prevLast=2.02, prevLastSize=1, volume=74553, high=6.06, low=1.59, close=6.89, halted=0.0, bidGreeks=OptionComputation(impliedVol=0.15698567200180516, delta=-0.5830620076188138, optPrice=2.059999942779541, pvDividend=0.0, gamma=0.10904868019677126, vega=0.08779963064070762, theta=-0.693419586600592, undPrice=434.2300109863281), askGreeks=OptionComputation(impliedVol=0.15793966452718683, delta=-0.5825592369846787, optPrice=2.0799999237060547, pvDividend=0.0, gamma=0.1084311372616528, vega=0.08789313190896753, theta=-0.6979035945558392, undPrice=434.2300109863281), lastGreeks=OptionComputation(impliedVol=0.1591059947190185, delta=-0.5819525962602503, optPrice=2.069999933242798, pvDividend=0.0, gamma=0.10768553966899908, vega=0.08830867296282152, theta=-0.7033856379432427, undPrice=434.2300109863281), modelGreeks=OptionComputation(impliedVol=0.1573872033786169, delta=-0.5849580230329579, optPrice=1.8690703726287383, pvDividend=0.0, gamma=0.10861860312127081, vega=0.0877977435773345, theta=-0.6941573127901541, undPrice=434.2101135253906))"
      ]
     },
     "execution_count": 139,
     "metadata": {},
     "output_type": "execute_result"
    }
   ],
   "source": [
    "tickers = ib.reqTickers(*contracts)\n",
    "\n",
    "tickers[0]"
   ]
  },
  {
   "cell_type": "code",
   "execution_count": 140,
   "id": "528d32e9",
   "metadata": {},
   "outputs": [
    {
     "name": "stdout",
     "output_type": "stream",
     "text": [
      "30D Model IV = 15.7 %\n"
     ]
    }
   ],
   "source": [
    "\n",
    "iv=round(tickers[0].modelGreeks.impliedVol,3)\n",
    "print('30D Model IV =', iv*100,'%')"
   ]
  },
  {
   "cell_type": "code",
   "execution_count": null,
   "id": "93ca1204",
   "metadata": {},
   "outputs": [],
   "source": []
  },
  {
   "cell_type": "code",
   "execution_count": 66,
   "id": "1144adb4",
   "metadata": {},
   "outputs": [],
   "source": [
    "ib.disconnect()"
   ]
  },
  {
   "cell_type": "code",
   "execution_count": null,
   "id": "f292421f",
   "metadata": {},
   "outputs": [],
   "source": []
  }
 ],
 "metadata": {
  "kernelspec": {
   "display_name": "Python [conda env:ibpy] *",
   "language": "python",
   "name": "conda-env-ibpy-py"
  },
  "language_info": {
   "codemirror_mode": {
    "name": "ipython",
    "version": 3
   },
   "file_extension": ".py",
   "mimetype": "text/x-python",
   "name": "python",
   "nbconvert_exporter": "python",
   "pygments_lexer": "ipython3",
   "version": "3.7.11"
  }
 },
 "nbformat": 4,
 "nbformat_minor": 5
}
